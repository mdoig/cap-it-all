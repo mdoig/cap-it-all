{
 "cells": [
  {
   "cell_type": "code",
   "execution_count": 41,
   "metadata": {},
   "outputs": [],
   "source": [
    "import pandas as pd\n",
    "import csv\n",
    "import datetime\n",
    "import numpy as np\n",
    "from smtplib import SMTP\n",
    "from email.mime.text import MIMEText\n",
    "from email.mime.multipart import MIMEMultipart\n",
    "from pretty_html_table import build_table\n",
    "\n",
    "df = pd.read_csv('scrape.csv')\n",
    "\n",
    "today = datetime.date.today().strftime(\"%Y-%m-%d\")\n",
    "lowPrices = []\n",
    "dates = []\n",
    "\n",
    "for x in range(len(df)):\n",
    "    if df['currentPrice'][x] < df['regularPrice'][x]:\n",
    "        lowPrices.append(df['currentPrice'][x])\n",
    "        dates.append(today)\n",
    "    else:\n",
    "        lowPrices.append(df['regularPrice'][x])\n",
    "        dates.append(today)\n",
    "df.insert(5, 'lowPrice', lowPrices)\n",
    "df['latestCheck']=dates\n",
    "\n",
    "items_all_df = pd.read_csv('itemsAll.csv')\n",
    "\n",
    "join_columns = ['brandName', 'itemName', 'itemColor']\n",
    "\n",
    "merge_df = pd.merge(df, items_all_df, on=join_columns, how='outer', suffixes=('', '_y')).drop(['inStock_y', 'url_y'], axis=1).fillna({'lowestPrice': 10000, 'lowPriceDate': today}).dropna()\n",
    "merge_df['bestPrice'] = np.where((merge_df['lowPrice'] < merge_df['lowestPrice']), merge_df['lowPrice'], merge_df['lowestPrice'])\n",
    "merge_df['bestPriceDate'] = np.where((merge_df['lowPrice'] < merge_df['lowestPrice']), merge_df['latestCheck'], merge_df['lowPriceDate'])\n",
    "\n",
    "new_items_all_df = merge_df.drop(['currentPrice', 'regularPrice', 'lowPrice', 'latestCheck', 'lowestPrice', 'lowPriceDate'], axis=1).rename(columns = {'bestPrice': 'lowestPrice', 'bestPriceDate': 'lowPriceDate'})\n",
    "new_items_all_df = new_items_all_df[['brandName', 'itemName', 'itemColor', 'lowestPrice', 'lowPriceDate', 'inStock', 'url']]\n",
    "new_items_all_df.to_csv('itemsAll.csv', index=False)\n",
    "\n",
    "calc_df = merge_df.drop(['lowPrice', 'latestCheck', 'lowestPrice', 'lowPriceDate'], axis=1)\n",
    "calc_df['currentPercentOff'] = ((1 - calc_df['currentPrice']/calc_df['regularPrice']) * 100).astype(int)\n",
    "calc_df['bestPercentOff'] = ((1 - calc_df['bestPrice']/calc_df['regularPrice']) * 100).astype(int)\n",
    "calc_df['myCurrentPrice'] = (calc_df['currentPrice'] * 0.9).round(2)\n",
    "calc_df['myBestPrice'] = (calc_df['bestPrice'] * 0.9).round(2)\n",
    "calc_df['myCurrentPercentOff'] = ((1 - calc_df['myCurrentPrice']/calc_df['regularPrice']) * 100).astype(int)\n",
    "calc_df['myBestPercentOff'] = ((1 - calc_df['myBestPrice']/calc_df['regularPrice']) * 100).astype(int)\n",
    "urls = calc_df.pop('url')\n",
    "calc_df.insert(len(calc_df.columns), 'url', urls)\n",
    "\n",
    "out_of_stock_df = calc_df.loc[calc_df['inStock'] == 'n'].reset_index(drop=True).drop(['inStock'], axis=1)\n",
    "out_of_stock_df.to_csv('outOfStock.csv', index=False)\n",
    "\n",
    "filtered_df = calc_df.loc[calc_df['inStock'] == 'y'].reset_index(drop=True).drop(['inStock'], axis=1)\n",
    "\n",
    "def send_mail(body):\n",
    "\n",
    "    message = MIMEMultipart()\n",
    "    message['Subject'] = f'Huckberry price check for {today}'\n",
    "    message['From'] = '<sender>@gmail.com'\n",
    "    message['To'] = '<receiver>@gmail.com'\n",
    "\n",
    "    body_content = body\n",
    "    message.attach(MIMEText(body_content, \"html\"))\n",
    "    msg_body = message.as_string()\n",
    "\n",
    "    server = SMTP('smtp.gmail.com', 587)\n",
    "    server.starttls()\n",
    "    server.login(message['From'], 'your_password_here')\n",
    "    server.sendmail(message['From'], message['To'], msg_body)\n",
    "    server.quit()\n",
    "\n",
    "send_mail(build_table(filtered_df, 'green_dark'))"
   ]
  },
  {
   "cell_type": "code",
   "execution_count": 42,
   "metadata": {},
   "outputs": [
    {
     "data": {
      "text/plain": [
       "22.024390243902438"
      ]
     },
     "execution_count": 42,
     "metadata": {},
     "output_type": "execute_result"
    }
   ],
   "source": [
    "out_of_stock_df['currentPercentOff'].mean()"
   ]
  },
  {
   "cell_type": "code",
   "execution_count": 43,
   "metadata": {},
   "outputs": [
    {
     "data": {
      "text/plain": [
       "25.0"
      ]
     },
     "execution_count": 43,
     "metadata": {},
     "output_type": "execute_result"
    }
   ],
   "source": [
    "out_of_stock_df['currentPercentOff'].median()"
   ]
  },
  {
   "cell_type": "code",
   "execution_count": 44,
   "metadata": {},
   "outputs": [
    {
     "data": {
      "text/plain": [
       "array([ 0, 20, 24, 25, 27, 29, 30, 31, 35, 39, 43, 44, 45, 50, 57, 63],\n",
       "      dtype=int64)"
      ]
     },
     "execution_count": 44,
     "metadata": {},
     "output_type": "execute_result"
    }
   ],
   "source": [
    "out_of_stock_df['currentPercentOff'].sort_values().unique()"
   ]
  },
  {
   "cell_type": "code",
   "execution_count": 45,
   "metadata": {},
   "outputs": [
    {
     "data": {
      "text/plain": [
       "0     18\n",
       "50     6\n",
       "35     2\n",
       "31     2\n",
       "25     2\n",
       "63     1\n",
       "57     1\n",
       "45     1\n",
       "44     1\n",
       "43     1\n",
       "39     1\n",
       "30     1\n",
       "29     1\n",
       "27     1\n",
       "24     1\n",
       "20     1\n",
       "Name: currentPercentOff, dtype: int64"
      ]
     },
     "execution_count": 45,
     "metadata": {},
     "output_type": "execute_result"
    }
   ],
   "source": [
    "out_of_stock_df['currentPercentOff'].value_counts()"
   ]
  }
 ],
 "metadata": {
  "kernelspec": {
   "display_name": "Python 3",
   "language": "python",
   "name": "python3"
  },
  "language_info": {
   "codemirror_mode": {
    "name": "ipython",
    "version": 3
   },
   "file_extension": ".py",
   "mimetype": "text/x-python",
   "name": "python",
   "nbconvert_exporter": "python",
   "pygments_lexer": "ipython3",
   "version": "3.7.0"
  }
 },
 "nbformat": 4,
 "nbformat_minor": 2
}
